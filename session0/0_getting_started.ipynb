{
 "cells": [
  {
   "cell_type": "code",
   "execution_count": 0,
   "metadata": {},
   "outputs": [],
   "source": [
    "# In this cell there is a lot of text, but because of the '#' in the front, \n",
    "# they are regarded as 'comments' in Python, and are not processed when running the program\n",
    "# or 'cell' in Jupyter.\n",
    "\n",
    "\"\"\"This is also a comment but it can \n",
    "be used for multiline\"\"\"\n",
    "\n",
    "'''This is also a comment \n",
    "for multiline'''"
   ]
  },
  {
   "cell_type": "markdown",
   "metadata": {},
   "source": [
    "### Classic hello world program\n",
    "Write code that prints `Hello world`"
   ]
  },
  {
   "cell_type": "code",
   "execution_count": 0,
   "metadata": {},
   "outputs": [],
   "source": [
    "# Classic first program!\n",
    "# Let's print the usual 'Hello world' string\n",
    "print(\"Hello world\")"
   ]
  },
  {
   "cell_type": "markdown",
   "metadata": {},
   "source": [
    "### Syntax errors\n",
    "In the first lecture we saw that `<object> <operator> <object>` was correct syntax.\n",
    "\n",
    "We also saw that `<object> <object>` is not a valid syntax, but what about\n",
    "`<object> <operator>` ?\n",
    "test that out"
   ]
  },
  {
   "cell_type": "code",
   "execution_count": 0,
   "metadata": {},
   "outputs": [],
   "source": [
    "# We have seen that <object> <operator> <object> is a legit expression, but how about\n",
    "3 + "
   ]
  },
  {
   "cell_type": "markdown",
   "metadata": {},
   "source": [
    "### Variable\n",
    "We saw that we can define variables, and we will use those a lot. But let us also start by seeing what happens if the variable is *NOT* set.\n",
    "\n",
    "This is good to see, since that is a very common error when coding, you make a spelling error, and the variable does not exist."
   ]
  },
  {
   "cell_type": "code",
   "execution_count": 0,
   "metadata": {},
   "outputs": [],
   "source": [
    "# print a variable name that we KNOW does not exist anywhere\n",
    "print(undefined_variable)"
   ]
  },
  {
   "cell_type": "markdown",
   "metadata": {},
   "source": [
    "### Variables and printing\n",
    "Write a program that prints  'My name is `<name>` and my job is `<jobtitle>` at `<workplace>`'\n",
    "\n",
    "Here we can use variables called `name`, `jobtitle` and `work_at`, so in case we need them elsewhere, it is easy"
   ]
  },
  {
   "cell_type": "code",
   "execution_count": 0,
   "metadata": {},
   "outputs": [],
   "source": [
    "name = \"Nanna List\"\n",
    "jobtitle = \"Assistant professor\"\n",
    "workplace = \"KTH\"\n",
    "\n",
    "print(\"My name is\", name, \"and my job is\", jobtitle, \"at\", workplace)"
   ]
  },
  {
   "cell_type": "markdown",
   "metadata": {},
   "source": [
    "### Kitchen recipe print\n",
    "Going back to the recipe idea, let us create a small program that:\n",
    "- can print the order of instructions while baking a very simple apple pie\n",
    "    - Peel and cutting apples\n",
    "    - Add sugar\n",
    "    - Mix ingredients\n",
    "    - Put in the oven\n",
    "    - Bake\n",
    "    - Remove cake from oven\n",
    "- A single batch requires 5 apples and 3 spoons of sugar\n",
    "- The cake should be baked at 180 C in 5 seconds. \n",
    "\n",
    "Since we cannot actually do any cooking tasks on a computer, we will use a print statement to indicate each task.\n",
    "\n",
    "We use for/while loops to:\n",
    "1) avoid unnecessary repetitive work -> greater risk of introducing bugs\n",
    "2) make the code reusable\n",
    "3) make the code easier to maintain"
   ]
  },
  {
   "cell_type": "code",
   "execution_count": 0,
   "metadata": {},
   "outputs": [],
   "source": [
    "# Import 'time' to get access to the 'sleep' function. Your will use module import many times.\n",
    "# One of the reasons that Python is extremely popular\n",
    "\n",
    "import time\n",
    "\n",
    "# Create a simple recipe\n",
    "# How many batches\n",
    "batch = 1\n",
    "\n",
    "# how many ingredients per batch\n",
    "number_of_apples = 5 * batch\n",
    "spoons_of_sugar = 3 * batch\n",
    "\n",
    "# Baking instructions\n",
    "bake_temperature = 180\n",
    "baking_times_in_seconds = 5\n",
    "\n",
    "# Print what needs to be done in what order\n",
    "for peel in range(number_of_apples):\n",
    "    print(\"Peeling apple\")\n",
    "\n",
    "for spoon in range(spoons_of_sugar):\n",
    "    print(\"Adding spoon of sugar\")\n",
    "\n",
    "print(\"Mix ingredients\")\n",
    "\n",
    "# Print that the cake is being baked for the duration it is\n",
    "print(\"Put in oven\")\n",
    "print(\"Bake at \", bake_temperature, \"C\")\n",
    "while baking_times_in_seconds > 0:\n",
    "    print(\"waiting 1 second...\")\n",
    "    time.sleep(1)\n",
    "    baking_times_in_seconds = baking_times_in_seconds - 1 \n",
    "\n",
    "# Print that the cake is now done\n",
    "print(\"The cake is now done\")"
   ]
  },
  {
   "cell_type": "markdown",
   "metadata": {},
   "source": [
    "### Guessing random numbers\n",
    "Let us create a small program that secretly knows a random number, then:\n",
    "- Program asks us to guess what it is\n",
    "- If we are correct, print it and stop running\n",
    "- If we are *not* correct, print whether we were too high or too low and we can try again"
   ]
  },
  {
   "cell_type": "code",
   "execution_count": 0,
   "metadata": {},
   "outputs": [],
   "source": [
    "# Import 'random' package to get access to random numbers\n",
    "import random\n",
    "\n",
    "# Get a random number between X and Y\n",
    "random_number = random.randint(1, 10)\n",
    "\n",
    "# Print a message with the random number interval\n",
    "print(\"I am thinking of a number between 1 and 10\")\n",
    "\n",
    "running = True\n",
    "\n",
    "# While the program is running, make guesses\n",
    "# if your guess is correct, the program should stop running\n",
    "# else check if smaller or bigger and print that\n",
    "while running:\n",
    "    guess_str = input(\"Make a guess: \")\n",
    "    guess = int(guess_str)\n",
    "    if guess == random_number:\n",
    "        print(\"Indeed I was thinking of\", random_number)\n",
    "        running = False\n",
    "    elif guess < random_number:\n",
    "        print(\"Try a bigger number!\")\n",
    "    else:\n",
    "        print(\"Try a smaller number!\")"
   ]
  },
  {
   "cell_type": "markdown",
   "metadata": {},
   "source": [
    "### Instead of us guessing, let the program loop over all numbers and find it\n",
    "Instead of us guessing, let the program loop over all numbers and print the correct one when found."
   ]
  },
  {
   "cell_type": "code",
   "execution_count": 0,
   "metadata": {},
   "outputs": [],
   "source": [
    "# Import 'random' package to get access to random numbers\n",
    "# We do not really need to import again, since it was already imported above!\n",
    "import random\n",
    "\n",
    "# Could we just write a program that checks all numbers and tells me which it was?\n",
    "random_number = random.randint(1, 10)\n",
    "\n",
    "# Loop over all the numbers and use the same logic from above\n",
    "for guess in range(1, 10+1):\n",
    "    print(\"Trying the number \", guess)\n",
    "    if guess == random_number:\n",
    "        print(\"Indeed I was thinking of\", random_number)    "
   ]
  },
  {
   "cell_type": "markdown",
   "metadata": {},
   "source": [
    "### Convert celsius to fahrenheit\n",
    "The conversion factor from celsius to fahrenheit is celsius multiplied by 1.8, and then add 32 to the result. \n",
    "- Create a program that takes the temperature in celsius as input and prints the temperature in fahrenheit"
   ]
  },
  {
   "cell_type": "code",
   "execution_count": 0,
   "metadata": {},
   "outputs": [],
   "source": [
    "celsius_str = input(\"Give a temperature in degree celsius: \")\n",
    "celsius = float(celsius_str)\n",
    "fahrenheit = celsius * 1.8 + 32\n",
    "print(\"The temperature \", celsius, \"C is equivalent to\", fahrenheit, \"F\")"
   ]
  },
  {
   "cell_type": "markdown",
   "metadata": {},
   "source": [
    "### If given a radius, can we print all the attributes of a circle?\n",
    "Take a radius as input and print:\n",
    "- The diameter: $2r$\n",
    "- The circumference: $2\\pi r$\n",
    "- The area: $\\pi r^2$\n",
    "\n",
    "Note the `PI` - use UPPERCASE letters when defining `constants`"
   ]
  },
  {
   "cell_type": "code",
   "execution_count": 0,
   "metadata": {},
   "outputs": [],
   "source": [
    "PI = 3.14\n",
    "radius_str = input(\"Give the radius of the circle: \")\n",
    "radius = float(radius_str)\n",
    "diameter = radius * 2.\n",
    "circumference = PI * diameter\n",
    "area = PI * radius ** 2.\n",
    "print(\"The diameter of the circle is:\", diameter)\n",
    "print(\"The circumference of the circle is:\", circumference)\n",
    "print(\"The area of the circle is:\", area)"
   ]
  },
  {
   "cell_type": "markdown",
   "metadata": {},
   "source": [
    "### assert ?\n",
    "In the next exercise class, you will see a keyword `assert`.\n",
    "\n",
    "The `assert` keyword tests if an `<expression>` is `True` or `False`.\n",
    "- `3 + 3` is an `<expression>` that has a numeric result, specifically, `6`\n",
    "- `3 == 3` is an `<expression>` that tests if `3 is equal to 3`, which is `True`\n",
    "- `3 == 5` is an `<expression>` that tests if `3 is equal to 5`, which is `False`\n",
    "\n",
    "Let us see what happens when we use the `assert` keyword"
   ]
  },
  {
   "cell_type": "code",
   "execution_count": 0,
   "metadata": {},
   "outputs": [],
   "source": [
    "assert 3 + 3\n",
    "print(\"3 + 3 is not zero, so True\")"
   ]
  },
  {
   "cell_type": "code",
   "execution_count": 0,
   "metadata": {},
   "outputs": [],
   "source": [
    "# 0 * 5 is equal to 0, which in Python is the same as False\n",
    "assert 0 * 5"
   ]
  },
  {
   "cell_type": "code",
   "execution_count": 0,
   "metadata": {},
   "outputs": [],
   "source": [
    "assert 3 == 3\n",
    "print(\"3 is indeed the same value as 3\")"
   ]
  },
  {
   "cell_type": "code",
   "execution_count": 0,
   "metadata": {},
   "outputs": [],
   "source": [
    "# test if 3 is the same as 5, which it is not!\n",
    "assert 3 == 5"
   ]
  },
  {
   "cell_type": "markdown",
   "metadata": {},
   "source": [
    "### Leap year calculator\n",
    "Let us create a small leap year calculator.\n",
    "\n",
    "The criteria for leap year is that the year is fully divisible by four, and we can do this in a few ways.\n",
    "- The modulus (%) 4 (remainder) is 0\n",
    "- The year / 4 == int(year / 4) \n",
    "- The year / 4 == year // 4\n",
    "\n",
    "In fact, it is a little more complicated than that:\n",
    "There is a leap year every year whose number is perfectly divisible by four - except for years which are both divisible by 100 and not divisible by 400. "
   ]
  },
  {
   "cell_type": "code",
   "execution_count": 0,
   "metadata": {},
   "outputs": [],
   "source": [
    "year_str = input(\"give a year:\")\n",
    "year = int(year_str)\n",
    "\n",
    "modulus_test = year % 4 == 0\n",
    "int_convert_test = year / 4 == int(year / 4)\n",
    "int_divisor_test = year / 4 == year // 4\n",
    "\n",
    "print(\"modulus_test:\", modulus_test, \" : \", year % 4)\n",
    "print(\"int_convert_test:\", int_convert_test, \" : \",year / 4, \",\", int(year / 4))\n",
    "print(\"int_divisor_test:\", int_divisor_test,\" : \", year / 4, \",\", year // 4)"
   ]
  },
  {
   "cell_type": "markdown",
   "metadata": {},
   "source": [
    "### Time!\n",
    "We can also work with time when programming! let us create a program that prints:\n",
    "- How many minutes have passed this year\n",
    "- How many seconds have passed now"
   ]
  },
  {
   "cell_type": "code",
   "execution_count": 0,
   "metadata": {},
   "outputs": [],
   "source": [
    "# Here we will use a more advanced time module\n",
    "import datetime\n",
    "\n",
    "current_datetime = datetime.datetime.now()\n",
    "    \n",
    "# Get the start of the current year\n",
    "start_of_year = datetime.datetime(current_datetime.year, 1, 1)\n",
    "\n",
    "# Calculate the time difference between now and the start of the year\n",
    "time_difference = current_datetime - start_of_year\n",
    "\n",
    "# Convert the time difference to seconds\n",
    "seconds = time_difference.total_seconds()\n",
    "minutes = seconds / 60\n",
    "hours = minutes / 60\n",
    "days = hours / 24\n",
    "\n",
    "# Print the number of seconds passed this year\n",
    "print(\"Seconds passed this year:\", int(seconds), \"seconds\")\n",
    "print(\"Minutes passed this year:\", int(minutes), \"minutes\")\n",
    "print(\"hours passed this year:\", int(hours), \"hours\")\n",
    "print(\"days passed this year:\", int(days), \"days\")\n"
   ]
  }
 ],
 "metadata": {
  "kernelspec": {
   "display_name": "bb1000",
   "language": "python",
   "name": "python3"
  },
  "language_info": {
   "codemirror_mode": {
    "name": "ipython",
    "version": 3
   },
   "file_extension": ".py",
   "mimetype": "text/x-python",
   "name": "python",
   "nbconvert_exporter": "python",
   "pygments_lexer": "ipython3",
   "version": "3.9.0"
  },
  "orig_nbformat": 4
 },
 "nbformat": 4,
 "nbformat_minor": 2
}