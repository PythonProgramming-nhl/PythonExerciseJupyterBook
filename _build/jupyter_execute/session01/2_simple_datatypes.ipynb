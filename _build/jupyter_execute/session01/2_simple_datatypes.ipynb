{
 "cells": [
  {
   "cell_type": "code",
   "execution_count": 1,
   "metadata": {},
   "outputs": [],
   "source": [
    "# Define helper function\n",
    "from pytest import approx\n",
    "def error_message(actual, expected):\n",
    "    return f'Actual {actual} != Expected {expected}'"
   ]
  },
  {
   "attachments": {},
   "cell_type": "markdown",
   "metadata": {},
   "source": [
    "# Lecture 1 - Data types\n",
    "\n",
    "We are going to continue with more practice on data types.\n",
    "\n",
    "Specifically, we will look at:\n",
    "* Comparing number expressions as booleans\n",
    "* Boolean comparisons\n",
    "* Strings and operations on them"
   ]
  },
  {
   "cell_type": "code",
   "execution_count": 2,
   "metadata": {},
   "outputs": [],
   "source": [
    "# Make sure the expressions are correct such that a and b together are True. Replace None\n",
    "a = (5 + 3) == 8 \n",
    "b = (3 + 3) == 6 \n",
    "\n",
    "both_correct = a and b"
   ]
  },
  {
   "cell_type": "code",
   "execution_count": 3,
   "metadata": {},
   "outputs": [],
   "source": [
    "assert both_correct, error_message(both_correct, True)"
   ]
  },
  {
   "cell_type": "code",
   "execution_count": 4,
   "metadata": {},
   "outputs": [
    {
     "ename": "AssertionError",
     "evalue": "Actual False != Expected True",
     "output_type": "error",
     "traceback": [
      "\u001b[0;31m---------------------------------------------------------------------------\u001b[0m",
      "\u001b[0;31mAssertionError\u001b[0m                            Traceback (most recent call last)",
      "Cell \u001b[0;32mIn[4], line 8\u001b[0m\n\u001b[1;32m      5\u001b[0m \u001b[38;5;66;03m# What should the logical operator between them be to yield True? Replace ##\u001b[39;00m\n\u001b[1;32m      6\u001b[0m one_correct_is_okay \u001b[38;5;241m=\u001b[39m equation_a \u001b[38;5;129;01mand\u001b[39;00m equation_b \u001b[38;5;66;03m#$a$and$\u001b[39;00m\n\u001b[0;32m----> 8\u001b[0m \u001b[38;5;28;01massert\u001b[39;00m one_correct_is_okay, error_message(one_correct_is_okay, \u001b[38;5;28;01mTrue\u001b[39;00m)\n",
      "\u001b[0;31mAssertionError\u001b[0m: Actual False != Expected True"
     ]
    }
   ],
   "source": [
    "# Given you have these equations\n",
    "equation_a = (5 + 3) == 8\n",
    "equation_b = (3 + 1) == 6\n",
    "\n",
    "# What should the logical operator between them be to yield True? Replace ##\n",
    "one_correct_is_okay = equation_a and equation_b #$a$and$\n",
    "\n",
    "assert one_correct_is_okay, error_message(one_correct_is_okay, True)"
   ]
  },
  {
   "attachments": {},
   "cell_type": "markdown",
   "metadata": {},
   "source": [
    "## Boolean comparisons\n",
    "\n",
    "Now you will get some practice in the expected output from Boolean comparison.\n",
    "\n",
    "Boolean comparison operators\n",
    "* bool1 `and` (`&`) bool2 : are both values True\n",
    "* bool1 `or` (`|`) bool2  : are one of the values True\n",
    "* bool1 `^` bool2 : (exclusive or) are only one of the values True."
   ]
  },
  {
   "cell_type": "code",
   "execution_count": 0,
   "metadata": {},
   "outputs": [],
   "source": [
    "# Given this expression\n",
    "a = True and True\n",
    "\n",
    "# Replace None with either True or False\n",
    "assert a == True "
   ]
  },
  {
   "cell_type": "code",
   "execution_count": 0,
   "metadata": {},
   "outputs": [],
   "source": [
    "# given this formula\n",
    "b = True and False\n",
    "\n",
    "# Replace None with either True or False\n",
    "assert b == False "
   ]
  },
  {
   "cell_type": "code",
   "execution_count": 0,
   "metadata": {},
   "outputs": [],
   "source": [
    "# given this formula\n",
    "c = False or False\n",
    "\n",
    "# Replace None with either True or False\n",
    "assert c == False "
   ]
  },
  {
   "cell_type": "code",
   "execution_count": 0,
   "metadata": {},
   "outputs": [],
   "source": [
    "# given this formula\n",
    "d = False or True\n",
    "\n",
    "# Replace None with either True or False\n",
    "assert d == True "
   ]
  },
  {
   "cell_type": "code",
   "execution_count": 0,
   "metadata": {},
   "outputs": [],
   "source": [
    "# given this formula\n",
    "e = False ^ False\n",
    "\n",
    "# Replace None with either True or False\n",
    "assert e == False "
   ]
  },
  {
   "cell_type": "code",
   "execution_count": 0,
   "metadata": {},
   "outputs": [],
   "source": [
    "# given this formula\n",
    "f = True ^ True\n",
    "\n",
    "# Replace None with either True or False\n",
    "assert f == False "
   ]
  },
  {
   "cell_type": "code",
   "execution_count": 0,
   "metadata": {},
   "outputs": [],
   "source": [
    "# given this formula\n",
    "g = False ^ True\n",
    "\n",
    "# Replace None with either True or False\n",
    "assert g == True "
   ]
  },
  {
   "cell_type": "code",
   "execution_count": 0,
   "metadata": {},
   "outputs": [],
   "source": [
    "h = False and not True\n",
    "\n",
    "# Replace None with either True or False\n",
    "assert h == False "
   ]
  },
  {
   "attachments": {},
   "cell_type": "markdown",
   "metadata": {},
   "source": [
    "## Strings and operations on strings"
   ]
  },
  {
   "cell_type": "code",
   "execution_count": 0,
   "metadata": {},
   "outputs": [],
   "source": [
    "# Create the string value hello world, replace None with the string\n",
    "hello = \"hello world\" \n",
    "print(hello)"
   ]
  },
  {
   "cell_type": "code",
   "execution_count": 0,
   "metadata": {},
   "outputs": [],
   "source": [
    "assert hello == \"hello world\", error_message(hello, \"hello world\")\n",
    "assert type(hello) == str, error_message(type(hello).__name__, str)"
   ]
  },
  {
   "cell_type": "code",
   "execution_count": 0,
   "metadata": {},
   "outputs": [],
   "source": [
    "# Set the two hello and world variables to their respective words, replace None\n",
    "hello = \"hello\" \n",
    "world = \"world\" \n",
    "\n",
    "# and combine them in the hello world variable to give \"hello world\" using the appropriate operator - think about the space in the middle, replace None with the correct expression\n",
    "hello_world = hello + \" \" + world \n",
    "\n",
    "print(hello_world)"
   ]
  },
  {
   "cell_type": "code",
   "execution_count": 0,
   "metadata": {},
   "outputs": [],
   "source": [
    "assert hello_world == \"hello world\", error_message(hello, 'hello world')\n",
    "assert hello != \"\", f\"value of 'hello' was empty\"\n",
    "assert world != \"\", f\"value of 'world' was empty\""
   ]
  },
  {
   "cell_type": "code",
   "execution_count": 0,
   "metadata": {},
   "outputs": [],
   "source": [
    "# Depending on how funny a joke is, you might laugh for a longer or shorter time\n",
    "# Fill in the values (replace None) to make the following print 'HaHaHaHaHa' - replace None\n",
    "laugh = \"Ha\" \n",
    "many_times = 5 \n",
    "\n",
    "# make it laugh 'many_times' by implementing the correct expression using the above variables and an appropriate operator \n",
    "laugh_a_lot = laugh * many_times \n",
    "\n",
    "assert laugh_a_lot == \"HaHaHaHaHa\", error_message(laugh_a_lot, 'HaHaHaHaHa')\n",
    "assert many_times > 1, f\"many_times should be a number bigger than 1, was {many_times}\"\n",
    "print(laugh_a_lot)"
   ]
  },
  {
   "attachments": {},
   "cell_type": "markdown",
   "metadata": {},
   "source": [
    "## Indexing of strings\n",
    "\n",
    "As we have discussed in lesson 1, we can index a `str` object. This is because it is a sequence of characters.\n",
    "\n",
    "* This can e.g., be handy, if you want the names of a particular file type such as docx. \n",
    "* Remember that Python counts from `0`!\n",
    "* If you want to access the value of more than one index, you can use `index_start : index_end` where `index_start` and `index_end` are integers.\n",
    "    - Note that this will give you the values starting from `index_start` and until `index_end - 1`\n",
    "\n",
    "More on this in lesson 4 on compound data types. "
   ]
  },
  {
   "cell_type": "code",
   "execution_count": 0,
   "metadata": {},
   "outputs": [],
   "source": [
    "# Replace None with name[index] using the correct index inserted\n",
    "name = 'Nanna'\n",
    "name_of_first_character = name[0] "
   ]
  },
  {
   "cell_type": "code",
   "execution_count": 0,
   "metadata": {},
   "outputs": [],
   "source": [
    "assert name_of_first_character == \"N\", error_message(name_of_first_character, \"N\")"
   ]
  },
  {
   "cell_type": "code",
   "execution_count": 0,
   "metadata": {},
   "outputs": [],
   "source": [
    "# Replace None with the correct index/index range to extract the filename without suffix (docx)\n",
    "filename_w_extension = 'filename.docx'\n",
    "filename = filename_w_extension[0:8] \n",
    "print(filename)"
   ]
  },
  {
   "cell_type": "code",
   "execution_count": 0,
   "metadata": {},
   "outputs": [],
   "source": [
    "assert filename == \"filename\", error_message(filename, \"filename\")"
   ]
  }
 ],
 "metadata": {
  "kernelspec": {
   "display_name": "bb1000_2023",
   "language": "python",
   "name": "python3"
  },
  "language_info": {
   "codemirror_mode": {
    "name": "ipython",
    "version": 3
   },
   "file_extension": ".py",
   "mimetype": "text/x-python",
   "name": "python",
   "nbconvert_exporter": "python",
   "pygments_lexer": "ipython3",
   "version": "3.9.0"
  },
  "vscode": {
   "interpreter": {
    "hash": "2f01e258595f0c264112b87b5f2e2c94be4bab49ac8438f33b47bf95e6458b5e"
   }
  }
 },
 "nbformat": 4,
 "nbformat_minor": 2
}