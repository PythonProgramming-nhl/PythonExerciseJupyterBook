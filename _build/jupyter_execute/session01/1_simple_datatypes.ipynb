{
 "cells": [
  {
   "cell_type": "code",
   "execution_count": 1,
   "metadata": {},
   "outputs": [],
   "source": [
    "# Define helper function\n",
    "from pytest import approx\n",
    "def error_message(actual, expected):\n",
    "    return f'Actual {actual} != Expected {expected}'"
   ]
  },
  {
   "attachments": {},
   "cell_type": "markdown",
   "metadata": {},
   "source": [
    "# Lecture 0 - Simple data types\n",
    "\n",
    "Today, we will get some practice in dealing with:\n",
    "\n",
    "* primitive data types (`int, float, bool, None`)\n",
    "* binding them to a variable using the assignment operator (`=`)\n",
    "* try to perform simple operations on them\n",
    "* printing them using the `print` function\n",
    "\n",
    "The hashtag # in the beginning of a line means that the line is commented-out (its color is different as you see). In other words, this line will not be read by the Python interpreter. "
   ]
  },
  {
   "cell_type": "code",
   "execution_count": 2,
   "metadata": {},
   "outputs": [],
   "source": [
    "# Set the value of 'integer_one' to the integer value one\n",
    "integer_one = 1 "
   ]
  },
  {
   "cell_type": "code",
   "execution_count": 3,
   "metadata": {},
   "outputs": [],
   "source": [
    "# This piece of code uses assertions (lession 7) to check that your newly defined variable has the correct type and value\n",
    "assert type(integer_one) == int, error_message(type(integer_one).__name__, int)\n",
    "assert integer_one == 1, error_message(integer_one, 1)"
   ]
  },
  {
   "cell_type": "code",
   "execution_count": 4,
   "metadata": {},
   "outputs": [
    {
     "name": "stdout",
     "output_type": "stream",
     "text": [
      "1\n"
     ]
    }
   ],
   "source": [
    "# Write a print statement to print the value of integer_one\n",
    "print(integer_one)"
   ]
  },
  {
   "cell_type": "code",
   "execution_count": 5,
   "metadata": {},
   "outputs": [],
   "source": [
    "# Set the value of 'float_one' to the float value one\n",
    "float_one = 1. "
   ]
  },
  {
   "cell_type": "code",
   "execution_count": 6,
   "metadata": {},
   "outputs": [],
   "source": [
    "assert type(float_one) == float, error_message(type(float_one).__name__, float)\n",
    "assert float_one == 1., error_message(float_one, 1.0)"
   ]
  },
  {
   "cell_type": "code",
   "execution_count": 7,
   "metadata": {},
   "outputs": [],
   "source": [
    "# Set the value of 'bool_true' to be true\n",
    "bool_true = True "
   ]
  },
  {
   "cell_type": "code",
   "execution_count": 8,
   "metadata": {},
   "outputs": [],
   "source": [
    "assert type(bool_true) == bool, error_message(type(bool_true).__name__, bool)\n",
    "assert bool_true == True, error_message(bool_true, True)"
   ]
  },
  {
   "cell_type": "code",
   "execution_count": 9,
   "metadata": {},
   "outputs": [],
   "source": [
    "# Set the value of 'none_type' to 'nothing'\n",
    "none_type = None "
   ]
  },
  {
   "cell_type": "code",
   "execution_count": 10,
   "metadata": {},
   "outputs": [],
   "source": [
    "assert none_type is None, error_message(type(none_type).__name__, None)"
   ]
  },
  {
   "attachments": {},
   "cell_type": "markdown",
   "metadata": {},
   "source": [
    "## Operators\n",
    "\n",
    "Things become exciting when we start to do operations on the data.\n",
    "\n",
    "The format of an expression is: <object><operator><object>\n",
    "\n",
    "* The expression has a value and a type.\n",
    "* Parentheses can be used to put precedence to a given operation (just as in calculus)\n",
    "\n",
    "Examples of operators on the standard int and float data types:\n",
    "* ```+, -, *, /, **, %```: (addition, subtraction, multiplication, divide, power, modulus)"
   ]
  },
  {
   "cell_type": "code",
   "execution_count": 11,
   "metadata": {},
   "outputs": [],
   "source": [
    "# Add the missing operator, replace the ## symbol\n",
    "nine = 5 + 4"
   ]
  },
  {
   "cell_type": "code",
   "execution_count": 12,
   "metadata": {},
   "outputs": [],
   "source": [
    "assert nine == 9, error_message(nine, 9)"
   ]
  },
  {
   "cell_type": "code",
   "execution_count": 13,
   "metadata": {},
   "outputs": [],
   "source": [
    "# Add the missing operator, replace the ## symbol\n",
    "five = 8 - 3"
   ]
  },
  {
   "cell_type": "code",
   "execution_count": 14,
   "metadata": {},
   "outputs": [],
   "source": [
    "assert five == 5, error_message(five, 5)"
   ]
  },
  {
   "cell_type": "code",
   "execution_count": 15,
   "metadata": {},
   "outputs": [],
   "source": [
    "# Add the missing operator, replace the ## symbol\n",
    "four = 2 * 2\n"
   ]
  },
  {
   "cell_type": "code",
   "execution_count": 16,
   "metadata": {},
   "outputs": [],
   "source": [
    "assert four == 4, error_message(four, 4)"
   ]
  },
  {
   "cell_type": "code",
   "execution_count": 17,
   "metadata": {},
   "outputs": [],
   "source": [
    "# Add the missing operator, replace the ## symbol\n",
    "two = 4 - 2"
   ]
  },
  {
   "cell_type": "code",
   "execution_count": 18,
   "metadata": {},
   "outputs": [],
   "source": [
    "assert two == 2, error_message(two, 2)"
   ]
  },
  {
   "attachments": {},
   "cell_type": "markdown",
   "metadata": {},
   "source": [
    "### With the flexibility comes some ugly features. Python allows us to mix int and floats in expressions. \n",
    "So be careful! \n",
    "What type will the expression be?\n",
    "Different versions of Python will do different things in certain cases.\n",
    "\n",
    "* In Python 3, integer division will be evaluated to a float\n",
    "* In Python 2, integer division will be evaluated to an integer and therefore floored (rounded down to nearest integer value)\n",
    "\n",
    "Remember that you can use `type` to check the data type."
   ]
  },
  {
   "cell_type": "code",
   "execution_count": 19,
   "metadata": {},
   "outputs": [],
   "source": [
    "# If necessary, correct the following expression to yield an integer.\n",
    "seven = 3 + 4."
   ]
  },
  {
   "cell_type": "code",
   "execution_count": 20,
   "metadata": {},
   "outputs": [
    {
     "ename": "AssertionError",
     "evalue": "Actual float != Expected <class 'int'>",
     "output_type": "error",
     "traceback": [
      "\u001b[0;31m---------------------------------------------------------------------------\u001b[0m",
      "\u001b[0;31mAssertionError\u001b[0m                            Traceback (most recent call last)",
      "Cell \u001b[0;32mIn[20], line 2\u001b[0m\n\u001b[1;32m      1\u001b[0m \u001b[38;5;28;01massert\u001b[39;00m seven \u001b[38;5;241m==\u001b[39m \u001b[38;5;241m7\u001b[39m\n\u001b[0;32m----> 2\u001b[0m \u001b[38;5;28;01massert\u001b[39;00m \u001b[38;5;28mtype\u001b[39m(seven) \u001b[38;5;241m==\u001b[39m \u001b[38;5;28mint\u001b[39m, error_message(\u001b[38;5;28mtype\u001b[39m(seven)\u001b[38;5;241m.\u001b[39m\u001b[38;5;18m__name__\u001b[39m, \u001b[38;5;28mint\u001b[39m)\n",
      "\u001b[0;31mAssertionError\u001b[0m: Actual float != Expected <class 'int'>"
     ]
    }
   ],
   "source": [
    "assert seven == 7\n",
    "assert type(seven) == int, error_message(type(seven).__name__, int)"
   ]
  },
  {
   "cell_type": "code",
   "execution_count": 0,
   "metadata": {},
   "outputs": [],
   "source": [
    "# Correct the following operation to yield a float\n",
    "nine = 3 + 6"
   ]
  },
  {
   "cell_type": "code",
   "execution_count": 0,
   "metadata": {},
   "outputs": [],
   "source": [
    "assert type(nine) == float, error_message(type(nine).__name__, float)"
   ]
  },
  {
   "cell_type": "code",
   "execution_count": 0,
   "metadata": {},
   "outputs": [],
   "source": [
    "# Check the value and type of the following divisions\n",
    "divisor_float = 3.0 / 2.0\n",
    "divisor_int = 3 / 2\n",
    "divisor_int_forced = int(3 / 2)\n",
    "\n",
    "print(divisor_float, type(divisor_float))\n",
    "print(divisor_int, type(divisor_int))\n",
    "print(divisor_int_forced, type(divisor_int_forced))\n"
   ]
  },
  {
   "attachments": {},
   "cell_type": "markdown",
   "metadata": {},
   "source": [
    "## Using variables to do math\n"
   ]
  },
  {
   "cell_type": "code",
   "execution_count": 0,
   "metadata": {},
   "outputs": [],
   "source": [
    "# Complete the right-hand side of the result_five expression to get the correct result, i.e., replace None\n",
    "number_two = 2\n",
    "number_three = 3\n",
    "result_five = number_two + number_three "
   ]
  },
  {
   "cell_type": "code",
   "execution_count": 0,
   "metadata": {},
   "outputs": [],
   "source": [
    "assert result_five == 5, error_message(result_five, 5)"
   ]
  },
  {
   "cell_type": "code",
   "execution_count": 0,
   "metadata": {},
   "outputs": [],
   "source": [
    "# Complete the 'area_of_square' expression, replace None\n",
    "side_a = 4\n",
    "area_of_square = side_a ** 2 "
   ]
  },
  {
   "cell_type": "code",
   "execution_count": 0,
   "metadata": {},
   "outputs": [],
   "source": [
    "assert area_of_square == 16, error_message(area_of_square, 16)"
   ]
  },
  {
   "cell_type": "code",
   "execution_count": 0,
   "metadata": {},
   "outputs": [],
   "source": [
    "# Complete the 'circumference of a circle' formula given you have the radius and PI, replace None\n",
    "\n",
    "PI = 3.14159 # upper case variable names are often used for constants (facts that does not change)\n",
    "radius = 4\n",
    "circumference = 2 * PI * radius \n",
    "assert circumference == approx(25.13272), error_message(circumference, 25.13272)"
   ]
  },
  {
   "attachments": {},
   "cell_type": "markdown",
   "metadata": {},
   "source": [
    "### In this example, you will use the `input()` function to prompt the user for inputs.\n",
    "\n",
    "Suppose you are an accountant and need to compute the remainder available amount for a customer after paying taxes and rent.\n",
    "\n",
    "Prompt the user for three inputs:\n",
    "* Monthly gross salary (SEK) (i.e., before paying taxes)\n",
    "* Tax rate (percentage)\n",
    "* Monthly rent (SEK)\n",
    "\n",
    "Then calculate the remaining allowance.\n",
    "\n",
    "`input()` takes a string as input that will be printed as prompt text to the user. \n",
    "What you type in response to the prompt (in `str` format) will be the output.\n",
    "\n",
    "In other words, if you enter `10`, it will be returned as `\"10\"`, and you will have to convert it to data type `float` using `float()`."
   ]
  },
  {
   "cell_type": "code",
   "execution_count": 0,
   "metadata": {},
   "outputs": [],
   "source": [
    "# Accountant example - read in salary, taxrate and rent and calculate the remaining allowance (remainder)\n",
    "\n",
    "salary = float(input(\"Provide your monthly gross salary (SEK): \"))\n",
    "taxrate = float(input(\"Provide your tax rate (percentage): \"))\n",
    "rent = float(input(\"Provide your monthly rent (SEK): \"))\n",
    "\n",
    "tax = salary * taxrate/100.\n",
    "net = salary - tax\n",
    "remainder = net - rent\n",
    "\n",
    "\n",
    "print(\"Remaining amount (SEK):\", remainder)"
   ]
  },
  {
   "cell_type": "code",
   "execution_count": 0,
   "metadata": {},
   "outputs": [],
   "source": [
    "assert type(remainder) == float, error_message(type(remainder), float)"
   ]
  },
  {
   "attachments": {},
   "cell_type": "markdown",
   "metadata": {},
   "source": [
    "## A brief note on memory addresses and rebinding variable names\n",
    "\n",
    "* To access the memory address of an object, we can use the function `id()`.\n",
    "* We can convert the memory address to hex code using the function `hex()`.\n",
    "* The `==` operator compares the value of two objects. Most of the time, you will use this.\n",
    "* The `is` operator compares whether two variables point to the same memory id. \n",
    "    - In other words, if `is` returns `True`, then `==` will necessarily return `True` BUT NOT necessarily the other way around.\n",
    "\n",
    "This block contains demonstrations but you can and should play around with examples yourself.\n"
   ]
  },
  {
   "cell_type": "code",
   "execution_count": 0,
   "metadata": {},
   "outputs": [],
   "source": [
    "PI = 3.14159\n",
    "radius = 2.2\n",
    "area = PI * radius ** 2.\n",
    "\n",
    "radius_id_original = id(radius) \n",
    "\n",
    "print('PI address: ', id(PI), hex(id(PI)))\n",
    "print('radius address: ', radius_id_original, hex(radius_id_original))\n",
    "print('area', id(area), hex(id(area)))"
   ]
  },
  {
   "attachments": {},
   "cell_type": "markdown",
   "metadata": {},
   "source": [
    "If we now reassign a value to the radius variable, we will see that it gets a new memory address."
   ]
  },
  {
   "cell_type": "code",
   "execution_count": 0,
   "metadata": {},
   "outputs": [],
   "source": [
    "radius = 3.0\n",
    "radius_id_new = id(radius)\n",
    "\n",
    "print(hex(radius_id_original), hex(radius_id_new))\n",
    "\n",
    "if radius_id_original != radius_id_new: \n",
    "    print(\"The original and new addresses are different.\")\n",
    "    print(\"This is the correct output.\")\n",
    "\n",
    "else:\n",
    "    print(\"The original and new addresses are the same.\")\n",
    "    print(\"This is the incorrect output. Likely outputted because you forgot to update all cells.\")\n",
    " "
   ]
  },
  {
   "attachments": {},
   "cell_type": "markdown",
   "metadata": {},
   "source": [
    "As you can see, we have lost the handle to the original value for the radius (2.2) when we did the reassignment.\n",
    "\n",
    "Considerations around memory addresses and reassignment will become even more important when we come to compound data types, such as lists.\n",
    "\n",
    "So please keep the `id()`and `hex()` function in mind."
   ]
  },
  {
   "cell_type": "code",
   "execution_count": 0,
   "metadata": {},
   "outputs": [],
   "source": [
    "# Let us compare radius and radius_new using == and is operators.\n",
    "radius = 2.2\n",
    "radius_new = 2.2\n",
    "\n",
    "compare_radius_radius_new_w_eq = radius == radius_new\n",
    "compare_radius_radius_new_w_is = radius is radius_new\n",
    "\n",
    "print(\"The two variables have the same value, therefore radius == radius_new should be True: \", compare_radius_radius_new_w_eq)\n",
    "print(\"The two variables do not have the same memory address, therefore radius is radius_new should be False: \", compare_radius_radius_new_w_is)"
   ]
  },
  {
   "attachments": {},
   "cell_type": "markdown",
   "metadata": {},
   "source": [
    "## Aliasing: assigning one variable to another variable.\n",
    "\n",
    "Aliasing: \n",
    "`new_variable = old_variable`\n",
    "\n",
    "`new_variable` will reference `old_variable` (i.e., point to the memory address of old_variable)\n",
    "\n",
    "If you now reassign `new_variable` to a new value, `new_variable` will get a new memory address and `new_variable` and `old_variable` will no longer point to the same address."
   ]
  },
  {
   "cell_type": "code",
   "execution_count": 0,
   "metadata": {},
   "outputs": [],
   "source": [
    "radius = 3.0\n",
    "radius_new = radius\n",
    "\n",
    "# Below, I use a fancy string formatting to get a nicer output when passed to the print() function (more in lesson 4)\n",
    "# If you cannot wait, you can have a look at https://docs.python.org/3/tutorial/inputoutput.html \n",
    "print(f\"radius:     {radius:5.1f}; address: {hex(id(radius))}\")\n",
    "print(f\"radius_new: {radius_new:5.1f}; address: {hex(id(radius_new))}\")"
   ]
  },
  {
   "cell_type": "code",
   "execution_count": 0,
   "metadata": {},
   "outputs": [],
   "source": [
    "#Let us now change the value of radius and see what happens to radius_new.\n",
    "# Here I am again using the more fancy string format\n",
    "radius = 4.0\n",
    "print(\"Print after updating radius. Note that we did not touch radius_new explicitly.\")\n",
    "print(f\"radius: {radius}, address: {hex(id(radius))}\")\n",
    "print(f\"radius_new: {radius_new}, address: {hex(id(radius_new))}\")"
   ]
  },
  {
   "attachments": {},
   "cell_type": "markdown",
   "metadata": {},
   "source": [
    "## Boolean operators"
   ]
  },
  {
   "cell_type": "code",
   "execution_count": 0,
   "metadata": {},
   "outputs": [],
   "source": [
    "# Set the correct boolean values to yield True with the AND operator. Replace None.\n",
    "bool_a = True\n",
    "bool_b = True \n",
    "bool_a_AND_bool_b = bool_a and bool_b"
   ]
  },
  {
   "cell_type": "code",
   "execution_count": 0,
   "metadata": {},
   "outputs": [],
   "source": [
    "assert bool_a_AND_bool_b, error_message(bool_a_AND_bool_b, True)"
   ]
  },
  {
   "cell_type": "code",
   "execution_count": 0,
   "metadata": {},
   "outputs": [],
   "source": [
    "# Set the correct boolean values to yield True with the OR operator. Replace None.\n",
    "bool_a = False\n",
    "bool_b = True \n",
    "\n",
    "bool_a_OR_bool_b = bool_a or bool_b"
   ]
  },
  {
   "cell_type": "code",
   "execution_count": 0,
   "metadata": {},
   "outputs": [],
   "source": [
    "assert bool_a_OR_bool_b, error_message(bool_a_OR_bool_b, True)"
   ]
  }
 ],
 "metadata": {
  "kernelspec": {
   "display_name": "bb1000_2023",
   "language": "python",
   "name": "python3"
  },
  "language_info": {
   "codemirror_mode": {
    "name": "ipython",
    "version": 3
   },
   "file_extension": ".py",
   "mimetype": "text/x-python",
   "name": "python",
   "nbconvert_exporter": "python",
   "pygments_lexer": "ipython3",
   "version": "3.9.0"
  },
  "vscode": {
   "interpreter": {
    "hash": "2f01e258595f0c264112b87b5f2e2c94be4bab49ac8438f33b47bf95e6458b5e"
   }
  }
 },
 "nbformat": 4,
 "nbformat_minor": 2
}